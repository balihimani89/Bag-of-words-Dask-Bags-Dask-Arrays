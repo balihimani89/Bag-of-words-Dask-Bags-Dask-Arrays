{
  "nbformat": 4,
  "nbformat_minor": 0,
  "metadata": {
    "colab": {
      "provenance": []
    },
    "kernelspec": {
      "name": "python3",
      "display_name": "Python 3"
    },
    "language_info": {
      "name": "python"
    }
  },
  "cells": [
    {
      "cell_type": "code",
      "execution_count": 1,
      "metadata": {
        "id": "9AlwZ-Uu2pUl",
        "colab": {
          "base_uri": "https://localhost:8080/"
        },
        "outputId": "df96763f-15f1-4ed2-a6a9-a8abca74d52c"
      },
      "outputs": [
        {
          "output_type": "stream",
          "name": "stdout",
          "text": [
            "Requirement already satisfied: pyspark in /usr/local/lib/python3.12/dist-packages (3.5.1)\n",
            "Requirement already satisfied: py4j==0.10.9.7 in /usr/local/lib/python3.12/dist-packages (from pyspark) (0.10.9.7)\n"
          ]
        }
      ],
      "source": [
        "!pip install pyspark"
      ]
    },
    {
      "cell_type": "code",
      "source": [
        "from pyspark.sql import SparkSession\n",
        "spark = SparkSession.builder.appName(\"ColabSpark\").getOrCreate()\n",
        "print(\"Spark running:\", spark.version)"
      ],
      "metadata": {
        "colab": {
          "base_uri": "https://localhost:8080/"
        },
        "id": "cvhfZIBT6U1Q",
        "outputId": "15fcfc83-b719-4f64-952f-94aecb914024"
      },
      "execution_count": 2,
      "outputs": [
        {
          "output_type": "stream",
          "name": "stdout",
          "text": [
            "Spark running: 3.5.1\n"
          ]
        }
      ]
    },
    {
      "cell_type": "code",
      "source": [
        "from pyspark.sql import SparkSession\n",
        "from pyspark.sql.functions import col, lower, trim\n",
        "from pyspark.ml.feature import RegexTokenizer, StopWordsRemover, CountVectorizer, IDF\n",
        "\n",
        "import pandas as pd\n",
        "import numpy as np\n",
        "\n",
        "# 1. Start Spark\n",
        "spark = SparkSession.builder \\\n",
        "    .appName(\"NewsTFIDF\") \\\n",
        "    .getOrCreate()\n",
        "\n",
        "# 2. Load CSV\n",
        "df = spark.read.csv(\n",
        "    \"all-the-news-2-1-cleaned.csv\",\n",
        "    header=True,\n",
        "    inferSchema=True,\n",
        "    mode=\"DROPMALFORMED\"\n",
        ").select(\"article\")"
      ],
      "metadata": {
        "id": "aXhb0j6F6uyx"
      },
      "execution_count": 4,
      "outputs": []
    },
    {
      "cell_type": "code",
      "source": [
        "# 3. Normalize text (lowercase + strip)\n",
        "df = df.withColumn(\"article\", trim(lower(col(\"article\"))))\n",
        "df = df.filter(col(\"article\").isNotNull() & (col(\"article\") != \"\"))\n",
        "df.show(5)"
      ],
      "metadata": {
        "colab": {
          "base_uri": "https://localhost:8080/"
        },
        "id": "h20coi2VH7Vs",
        "outputId": "a45e056a-f075-4c13-c525-5703f0796627"
      },
      "execution_count": 6,
      "outputs": [
        {
          "output_type": "stream",
          "name": "stdout",
          "text": [
            "+--------------------+\n",
            "|             article|\n",
            "+--------------------+\n",
            "|\"this post is par...|\n",
            "|davos, switzerlan...|\n",
            "|paris (reuters) -...|\n",
            "|\"paris hilton arr...|\n",
            "|caracas (reuters)...|\n",
            "+--------------------+\n",
            "only showing top 5 rows\n",
            "\n"
          ]
        }
      ]
    },
    {
      "cell_type": "code",
      "source": [
        "regex_tokenizer = RegexTokenizer(\n",
        "    inputCol=\"article\",\n",
        "    outputCol=\"words\",\n",
        "    pattern=\"[a-zA-Z]{2,}\",  # words of length >= 2\n",
        "    gaps=False               # extract words instead of splitting\n",
        ")\n",
        "\n",
        "words_df = regex_tokenizer.transform(df)\n",
        "words_df.show(5)"
      ],
      "metadata": {
        "colab": {
          "base_uri": "https://localhost:8080/"
        },
        "id": "-NMwZpohITmN",
        "outputId": "69d8d6f0-8d67-4461-fb2e-886fab6a4fa4"
      },
      "execution_count": 13,
      "outputs": [
        {
          "output_type": "stream",
          "name": "stdout",
          "text": [
            "+--------------------+--------------------+\n",
            "|             article|               words|\n",
            "+--------------------+--------------------+\n",
            "|\"this post is par...|[this, post, is, ...|\n",
            "|davos, switzerlan...|[davos, switzerla...|\n",
            "|paris (reuters) -...|[paris, reuters, ...|\n",
            "|\"paris hilton arr...|[paris, hilton, a...|\n",
            "|caracas (reuters)...|[caracas, reuters...|\n",
            "+--------------------+--------------------+\n",
            "only showing top 5 rows\n",
            "\n"
          ]
        }
      ]
    },
    {
      "cell_type": "code",
      "source": [
        "# 5. Remove stopwords\n",
        "remover = StopWordsRemover(inputCol=\"words\", outputCol=\"filtered_words\")\n",
        "filtered_df = remover.transform(words_df)\n",
        "filtered_df.show(5)"
      ],
      "metadata": {
        "colab": {
          "base_uri": "https://localhost:8080/"
        },
        "id": "lMHlKBE5ITZo",
        "outputId": "b7f09813-d34d-44f6-d86c-75be9f505318"
      },
      "execution_count": 14,
      "outputs": [
        {
          "output_type": "stream",
          "name": "stdout",
          "text": [
            "+--------------------+--------------------+--------------------+\n",
            "|             article|               words|      filtered_words|\n",
            "+--------------------+--------------------+--------------------+\n",
            "|\"this post is par...|[this, post, is, ...|[post, part, poly...|\n",
            "|davos, switzerlan...|[davos, switzerla...|[davos, switzerla...|\n",
            "|paris (reuters) -...|[paris, reuters, ...|[paris, reuters, ...|\n",
            "|\"paris hilton arr...|[paris, hilton, a...|[paris, hilton, a...|\n",
            "|caracas (reuters)...|[caracas, reuters...|[caracas, reuters...|\n",
            "+--------------------+--------------------+--------------------+\n",
            "only showing top 5 rows\n",
            "\n"
          ]
        }
      ]
    },
    {
      "cell_type": "code",
      "source": [
        "# 6. Term Frequency (CountVectorizer)\n",
        "cv = CountVectorizer(inputCol=\"filtered_words\", outputCol=\"raw_features\", vocabSize=10000)\n",
        "cv_model = cv.fit(filtered_df)\n",
        "tf_df = cv_model.transform(filtered_df)\n",
        "tf_df.show(5)\n"
      ],
      "metadata": {
        "colab": {
          "base_uri": "https://localhost:8080/"
        },
        "id": "2JZp4ljgITNj",
        "outputId": "9e50f1c0-dd7e-4554-b8d0-2490a3e92048"
      },
      "execution_count": 18,
      "outputs": [
        {
          "output_type": "stream",
          "name": "stdout",
          "text": [
            "+--------------------+--------------------+--------------------+--------------------+\n",
            "|             article|               words|      filtered_words|        raw_features|\n",
            "+--------------------+--------------------+--------------------+--------------------+\n",
            "|\"this post is par...|[this, post, is, ...|[post, part, poly...|(10000,[3,5,8,9,1...|\n",
            "|davos, switzerlan...|[davos, switzerla...|[davos, switzerla...|(10000,[1,3,5,10,...|\n",
            "|paris (reuters) -...|[paris, reuters, ...|[paris, reuters, ...|(10000,[2,5,8,9,1...|\n",
            "|\"paris hilton arr...|[paris, hilton, a...|[paris, hilton, a...|(10000,[14,55,125...|\n",
            "|caracas (reuters)...|[caracas, reuters...|[caracas, reuters...|(10000,[0,3,6,9,1...|\n",
            "+--------------------+--------------------+--------------------+--------------------+\n",
            "only showing top 5 rows\n",
            "\n"
          ]
        }
      ]
    },
    {
      "cell_type": "code",
      "source": [
        "# 7. TF-IDF\n",
        "idf = IDF(inputCol=\"raw_features\", outputCol=\"features\")\n",
        "idf_model = idf.fit(tf_df)\n",
        "tfidf_df = idf_model.transform(tf_df)\n",
        "tfidf_df.show(5)"
      ],
      "metadata": {
        "colab": {
          "base_uri": "https://localhost:8080/"
        },
        "id": "h7G8CdQ0IS-y",
        "outputId": "4fa1edf7-ccad-4b6d-e6ea-0107bea8a4c9"
      },
      "execution_count": 19,
      "outputs": [
        {
          "output_type": "stream",
          "name": "stdout",
          "text": [
            "+--------------------+--------------------+--------------------+--------------------+--------------------+\n",
            "|             article|               words|      filtered_words|        raw_features|            features|\n",
            "+--------------------+--------------------+--------------------+--------------------+--------------------+\n",
            "|\"this post is par...|[this, post, is, ...|[post, part, poly...|(10000,[3,5,8,9,1...|(10000,[3,5,8,9,1...|\n",
            "|davos, switzerlan...|[davos, switzerla...|[davos, switzerla...|(10000,[1,3,5,10,...|(10000,[1,3,5,10,...|\n",
            "|paris (reuters) -...|[paris, reuters, ...|[paris, reuters, ...|(10000,[2,5,8,9,1...|(10000,[2,5,8,9,1...|\n",
            "|\"paris hilton arr...|[paris, hilton, a...|[paris, hilton, a...|(10000,[14,55,125...|(10000,[14,55,125...|\n",
            "|caracas (reuters)...|[caracas, reuters...|[caracas, reuters...|(10000,[0,3,6,9,1...|(10000,[0,3,6,9,1...|\n",
            "+--------------------+--------------------+--------------------+--------------------+--------------------+\n",
            "only showing top 5 rows\n",
            "\n"
          ]
        }
      ]
    },
    {
      "cell_type": "code",
      "source": [
        "# 8. Inspect results\n",
        "print(\"Vocabulary size:\", len(cv_model.vocabulary))\n",
        "print(\"Sample feature names:\", cv_model.vocabulary[:20])"
      ],
      "metadata": {
        "colab": {
          "base_uri": "https://localhost:8080/"
        },
        "id": "1gnXQdmXId-B",
        "outputId": "c496469e-65d5-4112-f6ba-acc96cf80ffe"
      },
      "execution_count": 20,
      "outputs": [
        {
          "output_type": "stream",
          "name": "stdout",
          "text": [
            "Vocabulary size: 10000\n",
            "Sample feature names: ['said', 'trump', 'one', 'people', 'like', 'new', 'also', 'year', 'time', 're', 'president', 'first', 'two', 'us', 'last', 'even', 'think', 'get', 'years', 'percent']\n"
          ]
        }
      ]
    },
    {
      "cell_type": "code",
      "source": [
        "# Collect small sample into Pandas\n",
        "sample = tfidf_df.select(\"features\").limit(5).collect()\n",
        "feature_names = cv_model.vocabulary\n",
        "\n",
        "df_tfidf_head = pd.DataFrame(\n",
        "    [np.array(row.features.toArray()) for row in sample],\n",
        "    columns=feature_names\n",
        ")\n",
        "\n",
        "print(df_tfidf_head.head())"
      ],
      "metadata": {
        "colab": {
          "base_uri": "https://localhost:8080/"
        },
        "id": "T_yPv5EQIdwN",
        "outputId": "21994c00-4ea7-4a91-e8e7-b9cef8e79673"
      },
      "execution_count": 21,
      "outputs": [
        {
          "output_type": "stream",
          "name": "stdout",
          "text": [
            "       said     trump       one    people  like       new      also  year  \\\n",
            "0  0.000000  0.000000  0.000000  1.118502   0.0  4.450080  0.000000   0.0   \n",
            "1  0.000000  4.409789  0.000000  1.118502   0.0  0.890016  0.000000   0.0   \n",
            "2  0.000000  0.000000  1.635308  0.000000   0.0  1.780032  0.000000   0.0   \n",
            "3  0.000000  0.000000  0.000000  0.000000   0.0  0.000000  0.000000   0.0   \n",
            "4  2.344656  0.000000  0.000000  1.118502   0.0  0.000000  0.938229   0.0   \n",
            "\n",
            "       time        re  ...  wrestler  ankle  ernst  imprisonment  uphill  \\\n",
            "0  1.139936  4.405035  ...       0.0    0.0    0.0           0.0     0.0   \n",
            "1  0.000000  0.000000  ...       0.0    0.0    0.0           0.0     0.0   \n",
            "2  2.279872  2.936690  ...       0.0    0.0    0.0           0.0     0.0   \n",
            "3  0.000000  0.000000  ...       0.0    0.0    0.0           0.0     0.0   \n",
            "4  0.000000  1.468345  ...       0.0    0.0    0.0           0.0     0.0   \n",
            "\n",
            "   leisure  levy  unfolded  societal   nc  \n",
            "0      0.0   0.0       0.0       0.0  0.0  \n",
            "1      0.0   0.0       0.0       0.0  0.0  \n",
            "2      0.0   0.0       0.0       0.0  0.0  \n",
            "3      0.0   0.0       0.0       0.0  0.0  \n",
            "4      0.0   0.0       0.0       0.0  0.0  \n",
            "\n",
            "[5 rows x 10000 columns]\n"
          ]
        }
      ]
    }
  ]
}